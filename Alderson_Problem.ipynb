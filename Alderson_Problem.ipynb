{
 "cells": [
  {
   "cell_type": "code",
   "execution_count": 77,
   "id": "super-delivery",
   "metadata": {},
   "outputs": [],
   "source": [
    "import pandas as pd\n",
    "import numpy as np\n",
    "import ipywidgets as widgets\n",
    "import io\n",
    "import warnings\n",
    "from os import system, name \n",
    "warnings.filterwarnings('ignore')\n",
    "import ipywidgets as widgets\n",
    "from IPython.display import display, clear_output"
   ]
  },
  {
   "cell_type": "code",
   "execution_count": 78,
   "id": "conditional-event",
   "metadata": {},
   "outputs": [],
   "source": [
    "text_1 = widgets.HTML(value=\"<b><h2>Upload your Raw skill and Technical skill file</b> </h2>\")\n",
    "text_2 = widgets.HTML(value=\"<b><h2>Upload your technical skill file here</b> </h2>\")\n",
    "text_3 = widgets.HTML(value=\"<b><h2>Cleaned data set is </b> </h2>\")\n",
    "text_3 = widgets.HTML(value=\"<b><h2>Loading </b> </h2>\")"
   ]
  },
  {
   "cell_type": "code",
   "execution_count": 79,
   "id": "fossil-international",
   "metadata": {},
   "outputs": [],
   "source": [
    "def Clean_data():\n",
    "    global Raw_skills\n",
    "    global Technical_skills\n",
    "    raw_head=Raw_skills.columns[0]\n",
    "    tech_head=Technical_skills.columns[0]\n",
    "    raw_list=Raw_skills[raw_head].to_numpy()\n",
    "    i=0\n",
    "    for skills in raw_list:\n",
    "        if(Technical_skills[Technical_skills[tech_head]==skills].shape[0]==0):\n",
    "            Raw_skills=Raw_skills.drop(labels=i,axis=0)\n",
    "        i=i+1\n",
    "    display(Raw_skills)\n",
    "    Raw_skills.to_csv('Clean_data.csv',encoding='utf-8')\n"
   ]
  },
  {
   "cell_type": "code",
   "execution_count": 80,
   "id": "spectacular-thesaurus",
   "metadata": {},
   "outputs": [],
   "source": [
    "def convert_technical_skills(Uploader):\n",
    "    try:\n",
    "        input_file=list(Uploader.values())[0]\n",
    "        content=input_file['content']\n",
    "        content=io.StringIO(content.decode('utf-8'))\n",
    "        global Technical_skills\n",
    "        Technical_skills=pd.read_csv(content)\n",
    "        display(Technical_skills)\n",
    "        Clean_data()\n",
    "    except:\n",
    "        return \n",
    "          \n"
   ]
  },
  {
   "cell_type": "code",
   "execution_count": 81,
   "id": "little-hormone",
   "metadata": {},
   "outputs": [],
   "source": [
    "def convert_raw_skills(Uploader):\n",
    "    try:\n",
    "        input_file=list(Uploader.values())[0]\n",
    "        content=input_file['content']\n",
    "        content=io.StringIO(content.decode('utf-8'))\n",
    "        global Raw_skills\n",
    "        Raw_skills=pd.read_csv(content)\n",
    "        display(Raw_skills)\n",
    "        \n",
    "    except:\n",
    "        return \n",
    "    "
   ]
  },
  {
   "cell_type": "code",
   "execution_count": 82,
   "id": "vulnerable-lesson",
   "metadata": {},
   "outputs": [
    {
     "data": {
      "application/vnd.jupyter.widget-view+json": {
       "model_id": "180cc7658e264ae3b3831f25b34635a9",
       "version_major": 2,
       "version_minor": 0
      },
      "text/plain": [
       "HTML(value='<b><h2>Upload your Raw skill and Technical skill file</b> </h2>')"
      ]
     },
     "metadata": {},
     "output_type": "display_data"
    },
    {
     "data": {
      "application/vnd.jupyter.widget-view+json": {
       "model_id": "4fb2392383454feda53ff88a8a67e6bb",
       "version_major": 2,
       "version_minor": 0
      },
      "text/plain": [
       "interactive(children=(FileUpload(value={}, accept='.csv', description='Upload'), Output()), _dom_classes=('wid…"
      ]
     },
     "metadata": {},
     "output_type": "display_data"
    },
    {
     "data": {
      "application/vnd.jupyter.widget-view+json": {
       "model_id": "4cebf37a73804c65a00c2a89939a5f68",
       "version_major": 2,
       "version_minor": 0
      },
      "text/plain": [
       "interactive(children=(FileUpload(value={}, accept='.csv', description='Upload'), Output()), _dom_classes=('wid…"
      ]
     },
     "metadata": {},
     "output_type": "display_data"
    },
    {
     "data": {
      "text/plain": [
       "<function __main__.convert_technical_skills(Uploader)>"
      ]
     },
     "execution_count": 82,
     "metadata": {},
     "output_type": "execute_result"
    }
   ],
   "source": [
    "display(text_1)\n",
    "uploader_1=widgets.FileUpload( accept='.csv', multiple=False )\n",
    "uploader_2=widgets.FileUpload( accept='.csv', multiple=False )\n",
    "widgets.interact(convert_raw_skills,Uploader=uploader_1)\n",
    "widgets.interact(convert_technical_skills,Uploader=uploader_2)"
   ]
  },
  {
   "cell_type": "code",
   "execution_count": null,
   "id": "alternative-competition",
   "metadata": {},
   "outputs": [],
   "source": []
  },
  {
   "cell_type": "code",
   "execution_count": null,
   "id": "verbal-reliance",
   "metadata": {},
   "outputs": [],
   "source": []
  },
  {
   "cell_type": "code",
   "execution_count": null,
   "id": "southwest-intellectual",
   "metadata": {},
   "outputs": [],
   "source": []
  }
 ],
 "metadata": {
  "kernelspec": {
   "display_name": "Python 3",
   "language": "python",
   "name": "python3"
  },
  "language_info": {
   "codemirror_mode": {
    "name": "ipython",
    "version": 3
   },
   "file_extension": ".py",
   "mimetype": "text/x-python",
   "name": "python",
   "nbconvert_exporter": "python",
   "pygments_lexer": "ipython3",
   "version": "3.9.7"
  },
  "varInspector": {
   "cols": {
    "lenName": 16,
    "lenType": 16,
    "lenVar": 40
   },
   "kernels_config": {
    "python": {
     "delete_cmd_postfix": "",
     "delete_cmd_prefix": "del ",
     "library": "var_list.py",
     "varRefreshCmd": "print(var_dic_list())"
    },
    "r": {
     "delete_cmd_postfix": ") ",
     "delete_cmd_prefix": "rm(",
     "library": "var_list.r",
     "varRefreshCmd": "cat(var_dic_list()) "
    }
   },
   "types_to_exclude": [
    "module",
    "function",
    "builtin_function_or_method",
    "instance",
    "_Feature"
   ],
   "window_display": false
  }
 },
 "nbformat": 4,
 "nbformat_minor": 5
}
